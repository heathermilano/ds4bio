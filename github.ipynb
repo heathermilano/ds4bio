{
  "nbformat": 4,
  "nbformat_minor": 0,
  "metadata": {
    "colab": {
      "provenance": []
    },
    "kernelspec": {
      "name": "python3",
      "display_name": "Python 3"
    },
    "language_info": {
      "name": "python"
    }
  },
  "cells": [
    {
      "cell_type": "markdown",
      "source": [
        "1. one purpose of github is to allow for code collaboration where multiple people can work on the same project from anywhere.\n",
        "\n",
        "2. version control is creating multiple copies of the same source code so you can add different features without altering the main source code. This would help with the project because you can save your main source code safely and then experiment with more versions of the source code to test new features without messing up the original code.\n",
        "\n",
        "3. github could help manage collaboration for group projects because anyone can access the code from anywhere, so it is easy to work simultaneously. It also allows users to see what someone has contributed to the project, which can be helpful to figure out who is contributing and if their edits will work together with the final project if merged."
      ],
      "metadata": {
        "id": "XUYL0JnSBL01"
      }
    }
  ]
}